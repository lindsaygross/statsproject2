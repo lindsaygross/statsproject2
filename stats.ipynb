{
 "cells": [
  {
   "cell_type": "code",
   "execution_count": 1,
   "id": "af1d950a",
   "metadata": {},
   "outputs": [],
   "source": [
    "import pandas as pd\n"
   ]
  },
  {
   "cell_type": "code",
   "execution_count": 3,
   "id": "8bf659d9",
   "metadata": {},
   "outputs": [
    {
     "name": "stdout",
     "output_type": "stream",
     "text": [
      "<class 'pandas.core.frame.DataFrame'>\n",
      "RangeIndex: 5000 entries, 0 to 4999\n",
      "Data columns (total 25 columns):\n",
      " #   Column                            Non-Null Count  Dtype  \n",
      "---  ------                            --------------  -----  \n",
      " 0   user_id                           5000 non-null   int64  \n",
      " 1   age                               5000 non-null   int64  \n",
      " 2   gender                            5000 non-null   object \n",
      " 3   daily_screen_time_hours           5000 non-null   float64\n",
      " 4   phone_usage_hours                 5000 non-null   float64\n",
      " 5   laptop_usage_hours                5000 non-null   float64\n",
      " 6   tablet_usage_hours                5000 non-null   float64\n",
      " 7   tv_usage_hours                    5000 non-null   float64\n",
      " 8   social_media_hours                5000 non-null   float64\n",
      " 9   work_related_hours                5000 non-null   float64\n",
      " 10  entertainment_hours               5000 non-null   float64\n",
      " 11  gaming_hours                      5000 non-null   float64\n",
      " 12  sleep_duration_hours              5000 non-null   float64\n",
      " 13  sleep_quality                     5000 non-null   float64\n",
      " 14  mood_rating                       5000 non-null   float64\n",
      " 15  stress_level                      5000 non-null   int64  \n",
      " 16  physical_activity_hours_per_week  5000 non-null   float64\n",
      " 17  location_type                     5000 non-null   object \n",
      " 18  mental_health_score               5000 non-null   float64\n",
      " 19  uses_wellness_apps                5000 non-null   bool   \n",
      " 20  eats_healthy                      5000 non-null   bool   \n",
      " 21  caffeine_intake_mg_per_day        5000 non-null   float64\n",
      " 22  weekly_anxiety_score              5000 non-null   float64\n",
      " 23  weekly_depression_score           5000 non-null   float64\n",
      " 24  mindfulness_minutes_per_day       5000 non-null   float64\n",
      "dtypes: bool(2), float64(18), int64(3), object(2)\n",
      "memory usage: 908.3+ KB\n"
     ]
    }
   ],
   "source": [
    "df = pd.read_csv(\"Tech_Use_Stress_Wellness.csv\")\n",
    "df.info()"
   ]
  },
  {
   "cell_type": "code",
   "execution_count": null,
   "id": "d4ff6137",
   "metadata": {},
   "outputs": [],
   "source": []
  }
 ],
 "metadata": {
  "kernelspec": {
   "display_name": "venv",
   "language": "python",
   "name": "python3"
  },
  "language_info": {
   "codemirror_mode": {
    "name": "ipython",
    "version": 3
   },
   "file_extension": ".py",
   "mimetype": "text/x-python",
   "name": "python",
   "nbconvert_exporter": "python",
   "pygments_lexer": "ipython3",
   "version": "3.12.2"
  }
 },
 "nbformat": 4,
 "nbformat_minor": 5
}
